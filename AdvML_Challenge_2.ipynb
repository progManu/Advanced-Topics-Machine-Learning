{
  "cells": [
    {
      "cell_type": "markdown",
      "metadata": {
        "id": "view-in-github",
        "colab_type": "text"
      },
      "source": [
        "<a href=\"https://colab.research.google.com/github/progManu/Advanced-Topics-Machine-Learning/blob/main/AdvML_Challenge_2.ipynb\" target=\"_parent\"><img src=\"https://colab.research.google.com/assets/colab-badge.svg\" alt=\"Open In Colab\"/></a>"
      ]
    },
    {
      "cell_type": "markdown",
      "metadata": {
        "id": "1BOOufyb-KOo"
      },
      "source": [
        "# *Challenge 2*: *Discovering **Symmetries** in Data*\n",
        "\n",
        "Advanced Topics in Machine Learning -- Spring 2023, UniTS\n",
        "\n",
        "<a target=\"_blank\" href=\"https://colab.research.google.com/github/ganselmif/adv-ml-units/blob/main/notebooks/AdvML_Challenge_2.ipynb\"><img src=\"https://colab.research.google.com/assets/colab-badge.svg\" alt=\"Open in Colab\"/></a>"
      ]
    },
    {
      "cell_type": "markdown",
      "metadata": {
        "id": "NRExiTJo-KOq"
      },
      "source": [
        "Generate a dataset composed by rotations of 2-dimensional vectors *w.r.t.* a finite subgroup of the rotation group (*e.g.* every 3-4 degrees). Shuffle the dataset.  \n",
        "Generate the labels according to the orbits.  \n",
        "\n",
        "Implement a *NN* with one *FC* layer and `ReLU` to classify the orbits elements according to the label.  \n",
        "\n",
        "Write a Loss that contains 3 terms:\n",
        "- The regularization term as explained in class using [*soft-sort*](https://github.com/google-research/fast-soft-sort) on rows and columns of the Gramian of the first layer weights;\n",
        "- The cross entropy entropy with orbit labels;\n",
        "- The norm of the commutator between the covariance matrix of the data and that of the weights, as explained in class.  \n",
        "\n",
        "We are encouraged to come up with other constraints instead of *1* and especially *3*.  \n",
        "\n",
        "Test the invariance of the representation and plot the Gramian of the learned weights. Which type of matrix should you see?  "
      ]
    },
    {
      "cell_type": "code",
      "source": [
        "import scipy as sp\n",
        "import numpy as np\n",
        "from scipy.spatial.transform import Rotation as R\n",
        "import matplotlib.pyplot as plt\n",
        "import torch\n",
        "import torchvision\n",
        "from torch.utils.data import random_split\n",
        "from torch.utils.data import Dataset, DataLoader\n",
        "from tqdm import tqdm"
      ],
      "metadata": {
        "id": "iNYInTiH_Bau"
      },
      "execution_count": null,
      "outputs": []
    },
    {
      "cell_type": "code",
      "source": [
        "!git clone --recursive https://github.com/google-research/fast-soft-sort.git\n",
        "%cd /content/fast-soft-sort\n",
        "from fast_soft_sort.pytorch_ops import soft_rank, soft_sort"
      ],
      "metadata": {
        "colab": {
          "base_uri": "https://localhost:8080/"
        },
        "id": "UucoLEtAQrux",
        "outputId": "547e9a42-6eda-44f9-933b-441d565bee98"
      },
      "execution_count": null,
      "outputs": [
        {
          "output_type": "stream",
          "name": "stdout",
          "text": [
            "fatal: destination path 'fast-soft-sort' already exists and is not an empty directory.\n",
            "/content/fast-soft-sort\n"
          ]
        }
      ]
    },
    {
      "cell_type": "code",
      "source": [
        "# SOFTSORT TEST\n",
        "\n",
        "values = torch.tensor([[5., 1., 2.], [2., 1., 5.]])\n",
        "print(f'{values}')\n",
        "print(f'{torch.roll(values, -1, 0)}')\n",
        "\n",
        "soft_sort(values[:, (0, 1, 2)], regularization_strength=0.1)"
      ],
      "metadata": {
        "colab": {
          "base_uri": "https://localhost:8080/"
        },
        "id": "lrX9Ty-PTDT-",
        "outputId": "05456f09-9117-4b53-ff9a-ff2a52592926"
      },
      "execution_count": null,
      "outputs": [
        {
          "output_type": "stream",
          "name": "stdout",
          "text": [
            "tensor([[5., 1., 2.],\n",
            "        [2., 1., 5.]])\n",
            "tensor([[2., 1., 5.],\n",
            "        [5., 1., 2.]])\n"
          ]
        },
        {
          "output_type": "execute_result",
          "data": {
            "text/plain": [
              "tensor([[1., 2., 5.],\n",
              "        [1., 2., 5.]], dtype=torch.float64)"
            ]
          },
          "metadata": {},
          "execution_count": 3
        }
      ]
    },
    {
      "cell_type": "code",
      "source": [
        "angles = np.linspace(-sp.pi, sp.pi, num=120) # define numeber of angles to roate with"
      ],
      "metadata": {
        "id": "tFtkvPqQ-k9l"
      },
      "execution_count": null,
      "outputs": []
    },
    {
      "cell_type": "code",
      "source": [
        "x = np.linspace(1, 10, num=10) # number of points are the number of classes\n",
        "y = x\n",
        "\n",
        "x = x.reshape(1, x.shape[0])\n",
        "y = y.reshape(1, y.shape[0])\n",
        "\n",
        "points = np.concatenate((x, y), axis=0)\n",
        "points.shape"
      ],
      "metadata": {
        "colab": {
          "base_uri": "https://localhost:8080/"
        },
        "id": "v5i0rQ3DAloF",
        "outputId": "55b53b4e-e4fb-420e-c096-3123f6a1aae3"
      },
      "execution_count": null,
      "outputs": [
        {
          "output_type": "execute_result",
          "data": {
            "text/plain": [
              "(2, 10)"
            ]
          },
          "metadata": {},
          "execution_count": 5
        }
      ]
    },
    {
      "cell_type": "code",
      "source": [
        "x = np.array([[0], [0]])\n",
        "y = np.array([[0], [0]])\n",
        "\n",
        "for i in range(points.shape[1]):\n",
        "  for theta in angles:\n",
        "    rot_matrix = np.array(((np.cos(theta), -np.sin(theta)), (np.sin(theta), np.cos(theta))))\n",
        "    rotated_vector = np.matmul(rot_matrix, points[:, i])\n",
        "    rotated_vector = rotated_vector.reshape(rotated_vector.shape[0], 1)\n",
        "    x = np.concatenate((x, rotated_vector), axis=1)\n",
        "    y = np.concatenate((y, points[:, i].reshape(points[:, i].shape[0], 1)), axis=1)\n",
        "\n",
        "x = np.delete(x, 0, axis=1)\n",
        "y = np.delete(y, 0, axis=1)\n",
        "\n",
        "print(f'x shape: {x.shape}, y shape: {y.shape}')\n",
        "\n",
        "plt.scatter(x[0, :], x[1, :])\n",
        "plt.scatter(y[0, :], y[1, :])\n",
        "plt.show()"
      ],
      "metadata": {
        "colab": {
          "base_uri": "https://localhost:8080/",
          "height": 448
        },
        "id": "hAAMT2erC8mw",
        "outputId": "0fab98a5-32f6-4ae2-d160-940d8e814f29"
      },
      "execution_count": null,
      "outputs": [
        {
          "output_type": "stream",
          "name": "stdout",
          "text": [
            "x shape: (2, 1200), y shape: (2, 1200)\n"
          ]
        },
        {
          "output_type": "display_data",
          "data": {
            "text/plain": [
              "<Figure size 640x480 with 1 Axes>"
            ],
            "image/png": "[encoded data removed]"
          },
          "metadata": {}
        }
      ]
    },
    {
      "cell_type": "code",
      "source": [
        "class OrbitsDataset(Dataset):\n",
        "    def __init__(self, src_data):\n",
        "        self.src_data = src_data\n",
        "\n",
        "    def __len__(self):\n",
        "        return self.src_data[0].size()[0]\n",
        "\n",
        "    def __getitem__(self, idx):\n",
        "        return (self.src_data[0][idx, :], self.src_data[1][idx, :])"
      ],
      "metadata": {
        "id": "YI1O-e92EmWx"
      },
      "execution_count": null,
      "outputs": []
    },
    {
      "cell_type": "code",
      "source": [
        "temp_x = torch.tensor(x)\n",
        "temp_y = torch.tensor(y).int()\n",
        "\n",
        "print(temp_x[:, 0:3])\n",
        "print(temp_y[:, 0:3])"
      ],
      "metadata": {
        "colab": {
          "base_uri": "https://localhost:8080/"
        },
        "id": "Z9K-_I7hi4f5",
        "outputId": "0ed2a553-88f7-40e3-9896-4082f3a05872"
      },
      "execution_count": null,
      "outputs": [
        {
          "output_type": "stream",
          "name": "stdout",
          "text": [
            "tensor([[-1.0000, -0.9458, -0.8890],\n",
            "        [-1.0000, -1.0514, -1.0998]], dtype=torch.float64)\n",
            "tensor([[1, 1, 1],\n",
            "        [1, 1, 1]], dtype=torch.int32)\n"
          ]
        }
      ]
    },
    {
      "cell_type": "code",
      "source": [
        "temp_x = torch.tensor(x)\n",
        "temp_y = torch.tensor(y).int()\n",
        "\n",
        "temp_x = temp_x.transpose(0, 1)\n",
        "temp_y = temp_y.transpose(0, 1)\n",
        "\n",
        "print(temp_x[0:3, :])\n",
        "print(temp_y[0:3, :])\n",
        "\n",
        "_, idxs = torch.unique(temp_y, return_inverse=True, dim=0)\n",
        "\n",
        "data_in = temp_x\n",
        "labels = torch.nn.functional.one_hot(idxs)\n",
        "\n",
        "dataset = OrbitsDataset((data_in, labels))"
      ],
      "metadata": {
        "colab": {
          "base_uri": "https://localhost:8080/"
        },
        "id": "PFGa7GGlg-cJ",
        "outputId": "7f67d0e6-9449-496e-e98c-1bca8d29849e"
      },
      "execution_count": null,
      "outputs": [
        {
          "output_type": "stream",
          "name": "stdout",
          "text": [
            "tensor([[-1.0000, -1.0000],\n",
            "        [-0.9458, -1.0514],\n",
            "        [-0.8890, -1.0998]], dtype=torch.float64)\n",
            "tensor([[1, 1],\n",
            "        [1, 1],\n",
            "        [1, 1]], dtype=torch.int32)\n"
          ]
        }
      ]
    },
    {
      "cell_type": "code",
      "source": [
        "S_BATCH_SIZE = 100 # batch size must be equal to the number of outputs\n",
        "\n",
        "DATASET_LENGTH = len(dataset)\n",
        "\n",
        "print(f'dataset len: {DATASET_LENGTH}')\n",
        "\n",
        "TRAINING_RATIO = 0.7\n",
        "\n",
        "TRAINING_SAMPLES_NUMBER = int(TRAINING_RATIO*DATASET_LENGTH)\n",
        "TESTING_SAMPLES_NUMBER = DATASET_LENGTH - TRAINING_SAMPLES_NUMBER\n",
        "\n",
        "print(f'train len: {TRAINING_SAMPLES_NUMBER}, test len: {TESTING_SAMPLES_NUMBER}')\n",
        "\n",
        "trainset, testset = random_split(dataset, (TRAINING_SAMPLES_NUMBER, TESTING_SAMPLES_NUMBER))\n",
        "trainloader = torch.utils.data.DataLoader(trainset, batch_size=S_BATCH_SIZE, shuffle=True)\n",
        "testloader = torch.utils.data.DataLoader(trainset, batch_size=S_BATCH_SIZE, shuffle=False)"
      ],
      "metadata": {
        "colab": {
          "base_uri": "https://localhost:8080/"
        },
        "id": "h7d5hQ90lxCL",
        "outputId": "5d0ab56f-e545-47a2-fcbc-df658346c5ed"
      },
      "execution_count": null,
      "outputs": [
        {
          "output_type": "stream",
          "name": "stdout",
          "text": [
            "dataset len: 1200\n",
            "train len: 840, test len: 360\n"
          ]
        }
      ]
    },
    {
      "cell_type": "code",
      "source": [
        "device = torch.device(\"cuda:0\" if torch.cuda.is_available() else \"cpu\")\n",
        "device"
      ],
      "metadata": {
        "colab": {
          "base_uri": "https://localhost:8080/"
        },
        "id": "sS9WB4eqNbxC",
        "outputId": "81d9b0e9-7f34-4403-a62b-11ce43f61200"
      },
      "execution_count": null,
      "outputs": [
        {
          "output_type": "execute_result",
          "data": {
            "text/plain": [
              "device(type='cuda', index=0)"
            ]
          },
          "metadata": {},
          "execution_count": 11
        }
      ]
    },
    {
      "cell_type": "code",
      "source": [
        "class FCN(torch.nn.Module):\n",
        "  def __init__(self):\n",
        "    super(FCN, self).__init__()\n",
        "    self.layers = torch.nn.Sequential(\n",
        "        torch.nn.Linear(2, 30), # 2 is input e 10 è numero di orbite\n",
        "        torch.nn.ReLU(),\n",
        "        torch.nn.Linear(30, 10),\n",
        "        torch.nn.ReLU()\n",
        "    )\n",
        "  def forward(self, x):\n",
        "    x = x.float()\n",
        "    x = self.layers(x)\n",
        "    return x\n",
        "\n",
        "fcn = FCN().to(device)"
      ],
      "metadata": {
        "id": "9FoebA4XaAYR"
      },
      "execution_count": null,
      "outputs": []
    },
    {
      "cell_type": "code",
      "source": [
        "def gram_inv_reg_cols(gramian): # (TODO): iterare n^2 e non solo sigole distanze\n",
        "\n",
        "  # operate on traspose to switch cols and rows because soft_sort operates on row and not cols\n",
        "  gramian = gramian.cpu()\n",
        "  sorted_gramian = soft_sort(gramian.transpose(0, 1), regularization_strength=0.1) \n",
        " \n",
        "\n",
        "  sorted_gramian = sorted_gramian.transpose(0,1).cpu()\n",
        "\n",
        "  shifted_gramian = torch.roll(gramian, -1, 1).cpu()\n",
        "  shifted_sorted_gramian = soft_sort(shifted_gramian.transpose(0,1), regularization_strength=0.1)\n",
        "  shifted_sorted_gramian = shifted_sorted_gramian.transpose(0,1)\n",
        "\n",
        "  return (torch.norm(sorted_gramian - shifted_sorted_gramian, p=2, dim=0)**2).to(device)"
      ],
      "metadata": {
        "id": "91sCz8P2whTP"
      },
      "execution_count": null,
      "outputs": []
    },
    {
      "cell_type": "code",
      "source": [
        "def gram_inv_reg_rows(gramian):\n",
        "  # operate on traspose to switch cols and rows because soft_sort operates on row and not cols\n",
        "  gramian = gramian.cpu()\n",
        "  sorted_gramian = soft_sort(gramian, regularization_strength=0.1)\n",
        "\n",
        "  shifted_gramian = torch.roll(gramian, -1, 0).cpu()\n",
        "  shifted_sorted_gramian = soft_sort(shifted_gramian, regularization_strength=0.1)\n",
        "\n",
        "  return (torch.norm(sorted_gramian - shifted_sorted_gramian, p=2, dim=1)**2).to(device)"
      ],
      "metadata": {
        "id": "4z6RlcaVN6Q-"
      },
      "execution_count": null,
      "outputs": []
    },
    {
      "cell_type": "code",
      "source": [
        "def commutator_regularizer(gramian, x):\n",
        "  X = torch.matmul(x, x.transpose(0,1))\n",
        "\n",
        "  X = X.float()\n",
        "\n",
        "  # print(f'x: {X.dtype}, gramian: {gramian.dtype}')\n",
        "\n",
        "  commutator = torch.matmul(gramian, X) - torch.matmul(X, gramian)\n",
        "\n",
        "  return torch.linalg.matrix_norm(commutator)**2"
      ],
      "metadata": {
        "id": "gm2Lztb2THaQ"
      },
      "execution_count": null,
      "outputs": []
    },
    {
      "cell_type": "code",
      "source": [
        "loss = torch.nn.CrossEntropyLoss() # non sono sicuro della loss e della dimensione delle uscite della rete\n",
        "optim = torch.optim.Adam(fcn.parameters(), lr=1e-3)"
      ],
      "metadata": {
        "id": "FKZoUEbyO_2f"
      },
      "execution_count": null,
      "outputs": []
    },
    {
      "cell_type": "code",
      "source": [
        "def get_accuracy(model, dataloader):\n",
        "    model.eval()\n",
        "    with torch.no_grad():\n",
        "        correct=0\n",
        "        for x, y in iter(dataloader):\n",
        "            x = x.to(device)\n",
        "            y = y.to(device)\n",
        "            out=model(x)\n",
        "            y = y.nonzero(as_tuple=True)[1] # to get the index of the one hot encoding\n",
        "            correct+=(torch.argmax(out, axis=1)==y).sum()\n",
        "        return correct/len(dataloader.dataset)"
      ],
      "metadata": {
        "id": "MYkFCL2DexBK"
      },
      "execution_count": null,
      "outputs": []
    },
    {
      "cell_type": "code",
      "source": [
        "loss_list = []\n",
        "\n",
        "def train(model, optimizer, trainloader, testloader):\n",
        "    g_reg_term = 0.1\n",
        "    epochs=1500\n",
        "    for epoch in range(epochs):\n",
        "        current_loss = []\n",
        "        test_accuracy =  get_accuracy(model, testloader)\n",
        "        model.train()\n",
        "        train_loop = tqdm(trainloader, leave=False)\n",
        "        for _, (x, y) in enumerate(train_loop):\n",
        "            x = x.to(device)\n",
        "            y = y.to(device)\n",
        "            out=model(x)\n",
        "            y = y.float()\n",
        "\n",
        "            weigths = model.layers[0].weight\n",
        "            gramian = torch.matmul(weigths, torch.transpose(weigths, 0, 1))\n",
        "\n",
        "            l=loss(out, y) + g_reg_term*gram_inv_reg_cols(gramian).sum() # + g_reg_term*commutator_regularizer(gramian, x)\n",
        "            # in realtà dei primi due regolarizzatori basta solo uno dei due in quanto il gramiano è simmetrico\n",
        "\n",
        "            train_loop.set_description(f'Epoch [{epoch}/{epochs}]')\n",
        "            train_loop.set_postfix(loss=l, acc=test_accuracy)\n",
        "\n",
        "            current_loss.append(l)\n",
        "            \n",
        "            optimizer.zero_grad()\n",
        "            l.backward()\n",
        "            optimizer.step()\n",
        "\n",
        "        avg_loss = torch.tensor(current_loss).mean()\n",
        "        loss_list.append(avg_loss)"
      ],
      "metadata": {
        "id": "DeNSNb82exYF"
      },
      "execution_count": null,
      "outputs": []
    },
    {
      "cell_type": "code",
      "source": [
        "train(fcn, optim, trainloader, testloader)"
      ],
      "metadata": {
        "colab": {
          "base_uri": "https://localhost:8080/"
        },
        "id": "TmIAA1Vudgob",
        "outputId": "35210a1c-a679-4779-8db3-1f9fa518f2e9"
      },
      "execution_count": null,
      "outputs": [
        {
          "output_type": "stream",
          "name": "stderr",
          "text": []
        }
      ]
    },
    {
      "cell_type": "code",
      "source": [
        "def imshow(img):\n",
        "    npimg = img.numpy()\n",
        "    plt.axis(\"off\")\n",
        "    plt.imshow(np.transpose(npimg, (1, 2, 0)))"
      ],
      "metadata": {
        "id": "TZXiWMIykAWi"
      },
      "execution_count": null,
      "outputs": []
    },
    {
      "cell_type": "code",
      "source": [
        "weights = fcn.layers[0].weight.detach().cpu()\n",
        "\n",
        "print(weights.size())\n",
        "\n",
        "# Normalization\n",
        "w_min, w_max = weights.min(), weights.max()\n",
        "plt_weights = (weights - w_min) / (w_max - w_min)\n",
        "\n",
        "# Plot\n",
        "plt_weights = plt_weights.reshape(30, 2)\n",
        "\n",
        "plt.imshow(plt_weights, cmap='gray')\n",
        "plt.colorbar()\n",
        "plt.title('Weighs normalized')\n",
        "plt.show()"
      ],
      "metadata": {
        "id": "fT7_0HSmjg6g",
        "colab": {
          "base_uri": "https://localhost:8080/",
          "height": 470
        },
        "outputId": "c6f8e67e-8ce5-46c7-8432-78058d98dfc1"
      },
      "execution_count": null,
      "outputs": [
        {
          "output_type": "stream",
          "name": "stdout",
          "text": [
            "torch.Size([40, 2])\n"
          ]
        },
        {
          "output_type": "display_data",
          "data": {
            "text/plain": [
              "<Figure size 640x480 with 2 Axes>"
            ],
            "image/png": "[encoded data removed]"
          },
          "metadata": {}
        }
      ]
    },
    {
      "cell_type": "code",
      "source": [
        "plt_weights_fft = fcn.layers[0].weight.detach().cpu().numpy()\n",
        "\n",
        "fft_image = np.fft.fft2(plt_weights_fft)\n",
        "# Shift the zero frequency component to the center of the spectrum\n",
        "fft_image_shifted = np.fft.fftshift(fft_image)\n",
        "\n",
        "# Calculate the magnitude spectrum\n",
        "magnitude_spectrum = np.abs(fft_image_shifted)\n",
        "\n",
        "# Display the magnitude spectrum\n",
        "plt.imshow(magnitude_spectrum, cmap='gray')\n",
        "plt.colorbar()\n",
        "plt.title('FFT2 Magnitude Spectrum')\n",
        "plt.show()"
      ],
      "metadata": {
        "id": "djPdgSWfJOZ7",
        "colab": {
          "base_uri": "https://localhost:8080/",
          "height": 452
        },
        "outputId": "a0e1d91d-4bae-4e34-aadf-04f3f588de5d"
      },
      "execution_count": null,
      "outputs": [
        {
          "output_type": "display_data",
          "data": {
            "text/plain": [
              "<Figure size 640x480 with 2 Axes>"
            ],
            "image/png": "[encoded data removed]"
          },
          "metadata": {}
        }
      ]
    },
    {
      "cell_type": "code",
      "source": [
        "get_accuracy(fcn, testloader)"
      ],
      "metadata": {
        "id": "a4yf21zvL7ZE",
        "colab": {
          "base_uri": "https://localhost:8080/"
        },
        "outputId": "ce0c909b-adb3-41af-d654-27d7049f3f89"
      },
      "execution_count": null,
      "outputs": [
        {
          "output_type": "execute_result",
          "data": {
            "text/plain": [
              "tensor(0.7988, device='cuda:0')"
            ]
          },
          "metadata": {},
          "execution_count": 24
        }
      ]
    },
    {
      "cell_type": "code",
      "source": [
        "from sklearn.metrics import confusion_matrix\n",
        "from sklearn import metrics\n",
        "\n",
        "input, output = next(iter(testloader))\n",
        "\n",
        "input = input.to(device)\n",
        "\n",
        "model_out = fcn(input).detach().cpu()\n",
        "\n",
        "output = output.cpu()\n",
        "\n",
        "idx_model_out = torch.argmax(model_out, dim=1)\n",
        "idx_output = torch.argmax(output, dim=1)\n",
        "\n",
        "print(idx_model_out.size())\n",
        "print(idx_output.size())\n",
        "\n",
        "numpy_model_out = idx_model_out.numpy()\n",
        "numpy_output = idx_output.numpy()\n",
        "\n",
        "confusion_matrix = confusion_matrix(numpy_output, numpy_model_out)\n",
        "\n",
        "cm_display = metrics.ConfusionMatrixDisplay(confusion_matrix = confusion_matrix, display_labels = [*range(10)])\n",
        "\n",
        "cm_display.plot()\n",
        "plt.show()"
      ],
      "metadata": {
        "id": "qvkI0h9AoNf4",
        "colab": {
          "base_uri": "https://localhost:8080/",
          "height": 491
        },
        "outputId": "29aba288-acf2-41bb-929e-e09f0d96c32f"
      },
      "execution_count": null,
      "outputs": [
        {
          "output_type": "stream",
          "name": "stdout",
          "text": [
            "torch.Size([40])\n",
            "torch.Size([40])\n"
          ]
        },
        {
          "output_type": "display_data",
          "data": {
            "text/plain": [
              "<Figure size 640x480 with 2 Axes>"
            ],
            "image/png": "[encoded data removed]"
          },
          "metadata": {}
        }
      ]
    }
  ],
  "metadata": {
    "kernelspec": {
      "display_name": "Python 3",
      "language": "python",
      "name": "python3"
    },
    "language_info": {
      "name": "python",
      "version": "3.10.8"
    },
    "orig_nbformat": 4,
    "colab": {
      "provenance": [],
      "gpuType": "T4",
      "include_colab_link": true
    },
    "accelerator": "GPU",
    "gpuClass": "standard"
  },
  "nbformat": 4,
  "nbformat_minor": 0
}