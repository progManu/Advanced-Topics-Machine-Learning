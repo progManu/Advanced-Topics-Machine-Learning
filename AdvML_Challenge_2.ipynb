{
  "cells": [
    {
      "cell_type": "markdown",
      "metadata": {
        "id": "view-in-github",
        "colab_type": "text"
      },
      "source": [
        "<a href=\"https://colab.research.google.com/github/progManu/Advanced-Topics-Machine-Learning/blob/main/AdvML_Challenge_2.ipynb\" target=\"_parent\"><img src=\"https://colab.research.google.com/assets/colab-badge.svg\" alt=\"Open In Colab\"/></a>"
      ]
    },
    {
      "cell_type": "markdown",
      "metadata": {
        "id": "1BOOufyb-KOo"
      },
      "source": [
        "# *Challenge 2*: *Discovering **Symmetries** in Data*\n",
        "\n",
        "Advanced Topics in Machine Learning -- Spring 2023, UniTS\n",
        "\n",
        "<a target=\"_blank\" href=\"https://colab.research.google.com/github/ganselmif/adv-ml-units/blob/main/notebooks/AdvML_Challenge_2.ipynb\"><img src=\"https://colab.research.google.com/assets/colab-badge.svg\" alt=\"Open in Colab\"/></a>"
      ]
    },
    {
      "cell_type": "markdown",
      "metadata": {
        "id": "NRExiTJo-KOq"
      },
      "source": [
        "Generate a dataset composed by rotations of 2-dimensional vectors *w.r.t.* a finite subgroup of the rotation group (*e.g.* every 3-4 degrees). Shuffle the dataset.  \n",
        "Generate the labels according to the orbits.  \n",
        "\n",
        "Implement a *NN* with one *FC* layer and `ReLU` to classify the orbits elements according to the label.  \n",
        "\n",
        "Write a Loss that contains 3 terms:\n",
        "- The regularization term as explained in class using [*soft-sort*](https://github.com/google-research/fast-soft-sort) on rows and columns of the Gramian of the first layer weights;\n",
        "- The cross entropy entropy with orbit labels;\n",
        "- The norm of the commutator between the covariance matrix of the data and that of the weights, as explained in class.  \n",
        "\n",
        "We are encouraged to come up with other constraints instead of *1* and especially *3*.  \n",
        "\n",
        "Test the invariance of the representation and plot the Gramian of the learned weights. Which type of matrix should you see?  "
      ]
    },
    {
      "cell_type": "code",
      "source": [
        "'''\n",
        "Importing the needed libraries\n",
        "'''\n",
        "import scipy as sp\n",
        "import numpy as np\n",
        "from scipy.spatial.transform import Rotation as R\n",
        "import matplotlib.pyplot as plt\n",
        "import torch\n",
        "import torchvision\n",
        "from torch.utils.data import random_split\n",
        "from torch.utils.data import Dataset, DataLoader\n",
        "from tqdm import tqdm"
      ],
      "metadata": {
        "id": "iNYInTiH_Bau"
      },
      "execution_count": 20,
      "outputs": []
    },
    {
      "cell_type": "code",
      "source": [
        "!git clone --recursive https://github.com/google-research/fast-soft-sort.git\n",
        "%cd /content/fast-soft-sort\n",
        "from fast_soft_sort.pytorch_ops import soft_rank, soft_sort"
      ],
      "metadata": {
        "colab": {
          "base_uri": "https://localhost:8080/"
        },
        "id": "UucoLEtAQrux",
        "outputId": "97862f04-cbe4-4cd7-f5c5-89fd7d03244c"
      },
      "execution_count": 21,
      "outputs": [
        {
          "output_type": "stream",
          "name": "stdout",
          "text": [
            "Cloning into 'fast-soft-sort'...\n",
            "remote: Enumerating objects: 80, done.\u001b[K\n",
            "remote: Counting objects: 100% (80/80), done.\u001b[K\n",
            "remote: Compressing objects: 100% (46/46), done.\u001b[K\n",
            "remote: Total 80 (delta 47), reused 64 (delta 33), pack-reused 0\u001b[K\n",
            "Unpacking objects: 100% (80/80), 27.43 KiB | 1.05 MiB/s, done.\n",
            "/content/fast-soft-sort\n"
          ]
        }
      ]
    },
    {
      "cell_type": "code",
      "source": [
        "'''\n",
        "Testing softsort to get a good regularization_strength value\n",
        "'''\n",
        "\n",
        "values = torch.tensor([[5., 1., 2.], [2., 1., 5.]])\n",
        "print(f'{values}')\n",
        "print(f'{torch.roll(values, -1, 0)}')\n",
        "\n",
        "soft_sort(values[:, (0, 1, 2)], regularization_strength=0.1)"
      ],
      "metadata": {
        "colab": {
          "base_uri": "https://localhost:8080/"
        },
        "id": "lrX9Ty-PTDT-",
        "outputId": "cc4ae20b-baa3-4723-f2c2-c961a6b78bda"
      },
      "execution_count": 22,
      "outputs": [
        {
          "output_type": "stream",
          "name": "stdout",
          "text": [
            "tensor([[5., 1., 2.],\n",
            "        [2., 1., 5.]])\n",
            "tensor([[2., 1., 5.],\n",
            "        [5., 1., 2.]])\n"
          ]
        },
        {
          "output_type": "execute_result",
          "data": {
            "text/plain": [
              "tensor([[1., 2., 5.],\n",
              "        [1., 2., 5.]], dtype=torch.float64)"
            ]
          },
          "metadata": {},
          "execution_count": 22
        }
      ]
    },
    {
      "cell_type": "code",
      "source": [
        "'''\n",
        "Generate 120 angles of rotation from -pi to pi\n",
        "'''\n",
        "\n",
        "angles = np.linspace(-sp.pi, sp.pi, num=120) # define numeber of angles to roate with"
      ],
      "metadata": {
        "id": "tFtkvPqQ-k9l"
      },
      "execution_count": 23,
      "outputs": []
    },
    {
      "cell_type": "code",
      "source": [
        "'''\n",
        "Generate 10 points that correspond to 10 orbits\n",
        "'''\n",
        "\n",
        "x = np.linspace(1, 10, num=10) # number of points are the number of classes\n",
        "# x = np.random.randint(1000, size=10) # generate random points\n",
        "y = x\n",
        "\n",
        "x = x.reshape(1, x.shape[0])\n",
        "y = y.reshape(1, y.shape[0])\n",
        "\n",
        "points = np.concatenate((x, y), axis=0)\n",
        "points.shape"
      ],
      "metadata": {
        "colab": {
          "base_uri": "https://localhost:8080/"
        },
        "id": "v5i0rQ3DAloF",
        "outputId": "e720ae8d-22eb-400e-ff9c-b3d7428c0a2b"
      },
      "execution_count": 24,
      "outputs": [
        {
          "output_type": "execute_result",
          "data": {
            "text/plain": [
              "(2, 10)"
            ]
          },
          "metadata": {},
          "execution_count": 24
        }
      ]
    },
    {
      "cell_type": "code",
      "source": [
        "'''\n",
        "Generate orbit dataset from 10 points\n",
        "'''\n",
        "\n",
        "x = np.array([[0], [0]])\n",
        "y = np.array([[0], [0]])\n",
        "\n",
        "for i in range(points.shape[1]):\n",
        "  for theta in angles:\n",
        "    rot_matrix = np.array(((np.cos(theta), -np.sin(theta)), (np.sin(theta), np.cos(theta))))\n",
        "    rotated_vector = np.matmul(rot_matrix, points[:, i])\n",
        "    rotated_vector = rotated_vector.reshape(rotated_vector.shape[0], 1)\n",
        "    x = np.concatenate((x, rotated_vector), axis=1)\n",
        "    y = np.concatenate((y, points[:, i].reshape(points[:, i].shape[0], 1)), axis=1)\n",
        "\n",
        "x = np.delete(x, 0, axis=1)\n",
        "y = np.delete(y, 0, axis=1)\n",
        "\n",
        "print(f'x shape: {x.shape}, y shape: {y.shape}')\n",
        "\n",
        "plt.scatter(x[0, :], x[1, :])\n",
        "plt.scatter(y[0, :], y[1, :])\n",
        "plt.show()"
      ],
      "metadata": {
        "colab": {
          "base_uri": "https://localhost:8080/",
          "height": 448
        },
        "id": "hAAMT2erC8mw",
        "outputId": "eb8a5d07-f0b4-4a98-a5ad-9a9db725bde6"
      },
      "execution_count": 25,
      "outputs": [
        {
          "output_type": "stream",
          "name": "stdout",
          "text": [
            "x shape: (2, 1200), y shape: (2, 1200)\n"
          ]
        },
        {
          "output_type": "display_data",
          "data": {
            "text/plain": [
              "<Figure size 640x480 with 1 Axes>"
            ],
            "image/png": "[encoded data removed]"
          },
          "metadata": {}
        }
      ]
    },
    {
      "cell_type": "code",
      "source": [
        "'''\n",
        "Create Dataset class in pytorch\n",
        "'''\n",
        "\n",
        "class OrbitsDataset(Dataset):\n",
        "    def __init__(self, src_data):\n",
        "        self.src_data = src_data\n",
        "\n",
        "    def __len__(self):\n",
        "        return self.src_data[0].size()[0]\n",
        "\n",
        "    def __getitem__(self, idx):\n",
        "        return (self.src_data[0][idx, :], self.src_data[1][idx, :])"
      ],
      "metadata": {
        "id": "YI1O-e92EmWx"
      },
      "execution_count": 26,
      "outputs": []
    },
    {
      "cell_type": "code",
      "source": [
        "temp_x = torch.tensor(x)\n",
        "temp_y = torch.tensor(y).int()\n",
        "\n",
        "print(temp_x[:, 0:3])\n",
        "print(temp_y[:, 0:3])"
      ],
      "metadata": {
        "colab": {
          "base_uri": "https://localhost:8080/"
        },
        "id": "Z9K-_I7hi4f5",
        "outputId": "7d8ad6c0-5b0f-4c79-d435-345c04fd4c17"
      },
      "execution_count": 27,
      "outputs": [
        {
          "output_type": "stream",
          "name": "stdout",
          "text": [
            "tensor([[-1.0000, -0.9458, -0.8890],\n",
            "        [-1.0000, -1.0514, -1.0998]], dtype=torch.float64)\n",
            "tensor([[1, 1, 1],\n",
            "        [1, 1, 1]], dtype=torch.int32)\n"
          ]
        }
      ]
    },
    {
      "cell_type": "code",
      "source": [
        "'''\n",
        "Using one-hot encoding to encode orbits\n",
        "'''\n",
        "\n",
        "temp_x = torch.tensor(x)\n",
        "temp_y = torch.tensor(y).int()\n",
        "\n",
        "temp_x = temp_x.transpose(0, 1)\n",
        "temp_y = temp_y.transpose(0, 1)\n",
        "\n",
        "print(temp_x[0:3, :])\n",
        "print(temp_y[0:3, :])\n",
        "\n",
        "_, idxs = torch.unique(temp_y, return_inverse=True, dim=0)\n",
        "\n",
        "data_in = temp_x\n",
        "labels = torch.nn.functional.one_hot(idxs)\n",
        "\n",
        "dataset = OrbitsDataset((data_in, labels))"
      ],
      "metadata": {
        "colab": {
          "base_uri": "https://localhost:8080/"
        },
        "id": "PFGa7GGlg-cJ",
        "outputId": "26e14785-a8eb-4786-fed3-066b47b019ef"
      },
      "execution_count": 28,
      "outputs": [
        {
          "output_type": "stream",
          "name": "stdout",
          "text": [
            "tensor([[-1.0000, -1.0000],\n",
            "        [-0.9458, -1.0514],\n",
            "        [-0.8890, -1.0998]], dtype=torch.float64)\n",
            "tensor([[1, 1],\n",
            "        [1, 1],\n",
            "        [1, 1]], dtype=torch.int32)\n"
          ]
        }
      ]
    },
    {
      "cell_type": "code",
      "source": [
        "'''\n",
        "Create trinloader and testloader\n",
        "'''\n",
        "\n",
        "S_BATCH_SIZE = 100 # batch size must be equal to the number of outputs\n",
        "\n",
        "DATASET_LENGTH = len(dataset)\n",
        "\n",
        "print(f'dataset len: {DATASET_LENGTH}')\n",
        "\n",
        "TRAINING_RATIO = 0.7\n",
        "\n",
        "TRAINING_SAMPLES_NUMBER = int(TRAINING_RATIO*DATASET_LENGTH)\n",
        "TESTING_SAMPLES_NUMBER = DATASET_LENGTH - TRAINING_SAMPLES_NUMBER\n",
        "\n",
        "print(f'train len: {TRAINING_SAMPLES_NUMBER}, test len: {TESTING_SAMPLES_NUMBER}')\n",
        "\n",
        "trainset, testset = random_split(dataset, (TRAINING_SAMPLES_NUMBER, TESTING_SAMPLES_NUMBER))\n",
        "trainloader = torch.utils.data.DataLoader(trainset, batch_size=S_BATCH_SIZE, shuffle=True)\n",
        "testloader = torch.utils.data.DataLoader(trainset, batch_size=S_BATCH_SIZE, shuffle=False)"
      ],
      "metadata": {
        "colab": {
          "base_uri": "https://localhost:8080/"
        },
        "id": "h7d5hQ90lxCL",
        "outputId": "4c3f3128-3374-49b0-92c7-57f8d97e48b5"
      },
      "execution_count": 29,
      "outputs": [
        {
          "output_type": "stream",
          "name": "stdout",
          "text": [
            "dataset len: 1200\n",
            "train len: 840, test len: 360\n"
          ]
        }
      ]
    },
    {
      "cell_type": "code",
      "source": [
        "'''\n",
        "Get available device\n",
        "'''\n",
        "\n",
        "device = torch.device(\"cuda:0\" if torch.cuda.is_available() else \"cpu\")\n",
        "device"
      ],
      "metadata": {
        "colab": {
          "base_uri": "https://localhost:8080/"
        },
        "id": "sS9WB4eqNbxC",
        "outputId": "43795e98-9622-4bb7-ea16-1dffbd7e98c9"
      },
      "execution_count": 30,
      "outputs": [
        {
          "output_type": "execute_result",
          "data": {
            "text/plain": [
              "device(type='cpu')"
            ]
          },
          "metadata": {},
          "execution_count": 30
        }
      ]
    },
    {
      "cell_type": "code",
      "source": [
        "'''\n",
        "Define NN\n",
        "'''\n",
        "\n",
        "class FCN(torch.nn.Module):\n",
        "  def __init__(self):\n",
        "    super(FCN, self).__init__()\n",
        "    self.layers = torch.nn.Sequential(\n",
        "        torch.nn.Linear(2, 30), # 2 is input e 10 è numero di orbite\n",
        "        torch.nn.ReLU(),\n",
        "        torch.nn.Linear(30, 10),\n",
        "        torch.nn.ReLU()\n",
        "    )\n",
        "  def forward(self, x):\n",
        "    x = x.float()\n",
        "    x = self.layers(x)\n",
        "    return x\n",
        "\n",
        "fcn = FCN().to(device)"
      ],
      "metadata": {
        "id": "9FoebA4XaAYR"
      },
      "execution_count": 31,
      "outputs": []
    },
    {
      "cell_type": "code",
      "source": [
        "'''\n",
        "Define columns regularizer\n",
        "'''\n",
        "\n",
        "def gram_inv_reg_cols(gramian):\n",
        "\n",
        "  # operate on traspose to switch cols and rows because soft_sort operates on row and not cols\n",
        "  gramian = gramian.cpu()\n",
        "  sorted_gramian = soft_sort(gramian.transpose(0, 1), regularization_strength=0.1) \n",
        " \n",
        "\n",
        "  sorted_gramian = sorted_gramian.transpose(0,1).cpu()\n",
        "\n",
        "  shifted_gramian = torch.roll(gramian, -1, 1).cpu()\n",
        "  shifted_sorted_gramian = soft_sort(shifted_gramian.transpose(0,1), regularization_strength=0.1)\n",
        "  shifted_sorted_gramian = shifted_sorted_gramian.transpose(0,1)\n",
        "\n",
        "  return (torch.norm(sorted_gramian - shifted_sorted_gramian, p=2, dim=0)**2).to(device)"
      ],
      "metadata": {
        "id": "91sCz8P2whTP"
      },
      "execution_count": 32,
      "outputs": []
    },
    {
      "cell_type": "code",
      "source": [
        "'''\n",
        "Define rows regularizer\n",
        "'''\n",
        "\n",
        "def gram_inv_reg_rows(gramian):\n",
        "  # operate on traspose to switch cols and rows because soft_sort operates on row and not cols\n",
        "  gramian = gramian.cpu()\n",
        "  sorted_gramian = soft_sort(gramian, regularization_strength=0.1)\n",
        "\n",
        "  shifted_gramian = torch.roll(gramian, -1, 0).cpu()\n",
        "  shifted_sorted_gramian = soft_sort(shifted_gramian, regularization_strength=0.1)\n",
        "\n",
        "  return (torch.norm(sorted_gramian - shifted_sorted_gramian, p=2, dim=1)**2).to(device)"
      ],
      "metadata": {
        "id": "4z6RlcaVN6Q-"
      },
      "execution_count": 33,
      "outputs": []
    },
    {
      "cell_type": "code",
      "source": [
        "'''\n",
        "Define commutator regularizer\n",
        "'''\n",
        "\n",
        "def commutator_regularizer(gramian, x):\n",
        "  X = torch.matmul(x, x.transpose(0,1))\n",
        "\n",
        "  X = X.float()\n",
        "\n",
        "  # print(f'x: {X.dtype}, gramian: {gramian.dtype}')\n",
        "\n",
        "  commutator = torch.matmul(gramian, X) - torch.matmul(X, gramian)\n",
        "\n",
        "  return torch.linalg.matrix_norm(commutator)**2"
      ],
      "metadata": {
        "id": "gm2Lztb2THaQ"
      },
      "execution_count": 34,
      "outputs": []
    },
    {
      "cell_type": "code",
      "source": [
        "loss = torch.nn.CrossEntropyLoss() # non sono sicuro della loss e della dimensione delle uscite della rete\n",
        "optim = torch.optim.Adam(fcn.parameters(), lr=1e-3)"
      ],
      "metadata": {
        "id": "FKZoUEbyO_2f"
      },
      "execution_count": 35,
      "outputs": []
    },
    {
      "cell_type": "code",
      "source": [
        "def get_accuracy(model, dataloader):\n",
        "    model.eval()\n",
        "    with torch.no_grad():\n",
        "        correct=0\n",
        "        for x, y in iter(dataloader):\n",
        "            x = x.to(device)\n",
        "            y = y.to(device)\n",
        "            out=model(x)\n",
        "            y = y.nonzero(as_tuple=True)[1] # to get the index of the one hot encoding\n",
        "            correct+=(torch.argmax(out, axis=1)==y).sum()\n",
        "        return correct/len(dataloader.dataset)"
      ],
      "metadata": {
        "id": "MYkFCL2DexBK"
      },
      "execution_count": 36,
      "outputs": []
    },
    {
      "cell_type": "code",
      "source": [
        "loss_list = []\n",
        "\n",
        "def train(model, optimizer, trainloader, testloader):\n",
        "    g_reg_term = 0.1\n",
        "    epochs=1500\n",
        "    for epoch in range(epochs):\n",
        "        current_loss = []\n",
        "        test_accuracy =  get_accuracy(model, testloader)\n",
        "        model.train()\n",
        "        train_loop = tqdm(trainloader, leave=False)\n",
        "        for _, (x, y) in enumerate(train_loop):\n",
        "            x = x.to(device)\n",
        "            y = y.to(device)\n",
        "            out=model(x)\n",
        "            y = y.float()\n",
        "\n",
        "            weigths = model.layers[0].weight\n",
        "            gramian = torch.matmul(weigths, torch.transpose(weigths, 0, 1))\n",
        "\n",
        "            l=loss(out, y) + g_reg_term*gram_inv_reg_cols(gramian).sum() # + g_reg_term*commutator_regularizer(gramian, x)\n",
        "            # in realtà dei primi due regolarizzatori basta solo uno dei due in quanto il gramiano è simmetrico\n",
        "\n",
        "            train_loop.set_description(f'Epoch [{epoch}/{epochs}]')\n",
        "            train_loop.set_postfix(loss=l, acc=test_accuracy)\n",
        "\n",
        "            current_loss.append(l)\n",
        "            \n",
        "            optimizer.zero_grad()\n",
        "            l.backward()\n",
        "            optimizer.step()\n",
        "\n",
        "        avg_loss = torch.tensor(current_loss).mean()\n",
        "        loss_list.append(avg_loss)"
      ],
      "metadata": {
        "id": "DeNSNb82exYF"
      },
      "execution_count": 37,
      "outputs": []
    },
    {
      "cell_type": "code",
      "source": [
        "train(fcn, optim, trainloader, testloader)"
      ],
      "metadata": {
        "colab": {
          "base_uri": "https://localhost:8080/",
          "height": 320
        },
        "id": "TmIAA1Vudgob",
        "outputId": "4849f333-851f-4a34-8aad-44989df1d2bf"
      },
      "execution_count": 38,
      "outputs": [
        {
          "output_type": "stream",
          "name": "stderr",
          "text": []
        },
        {
          "output_type": "error",
          "ename": "KeyboardInterrupt",
          "evalue": "ignored",
          "traceback": [
            "\u001b[0;31m---------------------------------------------------------------------------\u001b[0m",
            "\u001b[0;31mKeyboardInterrupt\u001b[0m                         Traceback (most recent call last)",
            "\u001b[0;32m<ipython-input-38-cfc18a01f598>\u001b[0m in \u001b[0;36m<cell line: 1>\u001b[0;34m()\u001b[0m\n\u001b[0;32m----> 1\u001b[0;31m \u001b[0mtrain\u001b[0m\u001b[0;34m(\u001b[0m\u001b[0mfcn\u001b[0m\u001b[0;34m,\u001b[0m \u001b[0moptim\u001b[0m\u001b[0;34m,\u001b[0m \u001b[0mtrainloader\u001b[0m\u001b[0;34m,\u001b[0m \u001b[0mtestloader\u001b[0m\u001b[0;34m)\u001b[0m\u001b[0;34m\u001b[0m\u001b[0;34m\u001b[0m\u001b[0m\n\u001b[0m",
            "\u001b[0;32m<ipython-input-37-ca52936118db>\u001b[0m in \u001b[0;36mtrain\u001b[0;34m(model, optimizer, trainloader, testloader)\u001b[0m\n\u001b[1;32m      6\u001b[0m     \u001b[0;32mfor\u001b[0m \u001b[0mepoch\u001b[0m \u001b[0;32min\u001b[0m \u001b[0mrange\u001b[0m\u001b[0;34m(\u001b[0m\u001b[0mepochs\u001b[0m\u001b[0;34m)\u001b[0m\u001b[0;34m:\u001b[0m\u001b[0;34m\u001b[0m\u001b[0;34m\u001b[0m\u001b[0m\n\u001b[1;32m      7\u001b[0m         \u001b[0mcurrent_loss\u001b[0m \u001b[0;34m=\u001b[0m \u001b[0;34m[\u001b[0m\u001b[0;34m]\u001b[0m\u001b[0;34m\u001b[0m\u001b[0;34m\u001b[0m\u001b[0m\n\u001b[0;32m----> 8\u001b[0;31m         \u001b[0mtest_accuracy\u001b[0m \u001b[0;34m=\u001b[0m  \u001b[0mget_accuracy\u001b[0m\u001b[0;34m(\u001b[0m\u001b[0mmodel\u001b[0m\u001b[0;34m,\u001b[0m \u001b[0mtestloader\u001b[0m\u001b[0;34m)\u001b[0m\u001b[0;34m\u001b[0m\u001b[0;34m\u001b[0m\u001b[0m\n\u001b[0m\u001b[1;32m      9\u001b[0m         \u001b[0mmodel\u001b[0m\u001b[0;34m.\u001b[0m\u001b[0mtrain\u001b[0m\u001b[0;34m(\u001b[0m\u001b[0;34m)\u001b[0m\u001b[0;34m\u001b[0m\u001b[0;34m\u001b[0m\u001b[0m\n\u001b[1;32m     10\u001b[0m         \u001b[0mtrain_loop\u001b[0m \u001b[0;34m=\u001b[0m \u001b[0mtqdm\u001b[0m\u001b[0;34m(\u001b[0m\u001b[0mtrainloader\u001b[0m\u001b[0;34m,\u001b[0m \u001b[0mleave\u001b[0m\u001b[0;34m=\u001b[0m\u001b[0;32mFalse\u001b[0m\u001b[0;34m)\u001b[0m\u001b[0;34m\u001b[0m\u001b[0;34m\u001b[0m\u001b[0m\n",
            "\u001b[0;32m<ipython-input-36-f19e57e68702>\u001b[0m in \u001b[0;36mget_accuracy\u001b[0;34m(model, dataloader)\u001b[0m\n\u001b[1;32m      3\u001b[0m     \u001b[0;32mwith\u001b[0m \u001b[0mtorch\u001b[0m\u001b[0;34m.\u001b[0m\u001b[0mno_grad\u001b[0m\u001b[0;34m(\u001b[0m\u001b[0;34m)\u001b[0m\u001b[0;34m:\u001b[0m\u001b[0;34m\u001b[0m\u001b[0;34m\u001b[0m\u001b[0m\n\u001b[1;32m      4\u001b[0m         \u001b[0mcorrect\u001b[0m\u001b[0;34m=\u001b[0m\u001b[0;36m0\u001b[0m\u001b[0;34m\u001b[0m\u001b[0;34m\u001b[0m\u001b[0m\n\u001b[0;32m----> 5\u001b[0;31m         \u001b[0;32mfor\u001b[0m \u001b[0mx\u001b[0m\u001b[0;34m,\u001b[0m \u001b[0my\u001b[0m \u001b[0;32min\u001b[0m \u001b[0miter\u001b[0m\u001b[0;34m(\u001b[0m\u001b[0mdataloader\u001b[0m\u001b[0;34m)\u001b[0m\u001b[0;34m:\u001b[0m\u001b[0;34m\u001b[0m\u001b[0;34m\u001b[0m\u001b[0m\n\u001b[0m\u001b[1;32m      6\u001b[0m             \u001b[0mx\u001b[0m \u001b[0;34m=\u001b[0m \u001b[0mx\u001b[0m\u001b[0;34m.\u001b[0m\u001b[0mto\u001b[0m\u001b[0;34m(\u001b[0m\u001b[0mdevice\u001b[0m\u001b[0;34m)\u001b[0m\u001b[0;34m\u001b[0m\u001b[0;34m\u001b[0m\u001b[0m\n\u001b[1;32m      7\u001b[0m             \u001b[0my\u001b[0m \u001b[0;34m=\u001b[0m \u001b[0my\u001b[0m\u001b[0;34m.\u001b[0m\u001b[0mto\u001b[0m\u001b[0;34m(\u001b[0m\u001b[0mdevice\u001b[0m\u001b[0;34m)\u001b[0m\u001b[0;34m\u001b[0m\u001b[0;34m\u001b[0m\u001b[0m\n",
            "\u001b[0;32m/usr/local/lib/python3.10/dist-packages/torch/utils/data/dataloader.py\u001b[0m in \u001b[0;36m__next__\u001b[0;34m(self)\u001b[0m\n\u001b[1;32m    631\u001b[0m                 \u001b[0;31m# TODO(https://github.com/pytorch/pytorch/issues/76750)\u001b[0m\u001b[0;34m\u001b[0m\u001b[0;34m\u001b[0m\u001b[0m\n\u001b[1;32m    632\u001b[0m                 \u001b[0mself\u001b[0m\u001b[0;34m.\u001b[0m\u001b[0m_reset\u001b[0m\u001b[0;34m(\u001b[0m\u001b[0;34m)\u001b[0m  \u001b[0;31m# type: ignore[call-arg]\u001b[0m\u001b[0;34m\u001b[0m\u001b[0;34m\u001b[0m\u001b[0m\n\u001b[0;32m--> 633\u001b[0;31m             \u001b[0mdata\u001b[0m \u001b[0;34m=\u001b[0m \u001b[0mself\u001b[0m\u001b[0;34m.\u001b[0m\u001b[0m_next_data\u001b[0m\u001b[0;34m(\u001b[0m\u001b[0;34m)\u001b[0m\u001b[0;34m\u001b[0m\u001b[0;34m\u001b[0m\u001b[0m\n\u001b[0m\u001b[1;32m    634\u001b[0m             \u001b[0mself\u001b[0m\u001b[0;34m.\u001b[0m\u001b[0m_num_yielded\u001b[0m \u001b[0;34m+=\u001b[0m \u001b[0;36m1\u001b[0m\u001b[0;34m\u001b[0m\u001b[0;34m\u001b[0m\u001b[0m\n\u001b[1;32m    635\u001b[0m             \u001b[0;32mif\u001b[0m \u001b[0mself\u001b[0m\u001b[0;34m.\u001b[0m\u001b[0m_dataset_kind\u001b[0m \u001b[0;34m==\u001b[0m \u001b[0m_DatasetKind\u001b[0m\u001b[0;34m.\u001b[0m\u001b[0mIterable\u001b[0m \u001b[0;32mand\u001b[0m\u001b[0;31m \u001b[0m\u001b[0;31m\\\u001b[0m\u001b[0;34m\u001b[0m\u001b[0;34m\u001b[0m\u001b[0m\n",
            "\u001b[0;32m/usr/local/lib/python3.10/dist-packages/torch/utils/data/dataloader.py\u001b[0m in \u001b[0;36m_next_data\u001b[0;34m(self)\u001b[0m\n\u001b[1;32m    675\u001b[0m     \u001b[0;32mdef\u001b[0m \u001b[0m_next_data\u001b[0m\u001b[0;34m(\u001b[0m\u001b[0mself\u001b[0m\u001b[0;34m)\u001b[0m\u001b[0;34m:\u001b[0m\u001b[0;34m\u001b[0m\u001b[0;34m\u001b[0m\u001b[0m\n\u001b[1;32m    676\u001b[0m         \u001b[0mindex\u001b[0m \u001b[0;34m=\u001b[0m \u001b[0mself\u001b[0m\u001b[0;34m.\u001b[0m\u001b[0m_next_index\u001b[0m\u001b[0;34m(\u001b[0m\u001b[0;34m)\u001b[0m  \u001b[0;31m# may raise StopIteration\u001b[0m\u001b[0;34m\u001b[0m\u001b[0;34m\u001b[0m\u001b[0m\n\u001b[0;32m--> 677\u001b[0;31m         \u001b[0mdata\u001b[0m \u001b[0;34m=\u001b[0m \u001b[0mself\u001b[0m\u001b[0;34m.\u001b[0m\u001b[0m_dataset_fetcher\u001b[0m\u001b[0;34m.\u001b[0m\u001b[0mfetch\u001b[0m\u001b[0;34m(\u001b[0m\u001b[0mindex\u001b[0m\u001b[0;34m)\u001b[0m  \u001b[0;31m# may raise StopIteration\u001b[0m\u001b[0;34m\u001b[0m\u001b[0;34m\u001b[0m\u001b[0m\n\u001b[0m\u001b[1;32m    678\u001b[0m         \u001b[0;32mif\u001b[0m \u001b[0mself\u001b[0m\u001b[0;34m.\u001b[0m\u001b[0m_pin_memory\u001b[0m\u001b[0;34m:\u001b[0m\u001b[0;34m\u001b[0m\u001b[0;34m\u001b[0m\u001b[0m\n\u001b[1;32m    679\u001b[0m             \u001b[0mdata\u001b[0m \u001b[0;34m=\u001b[0m \u001b[0m_utils\u001b[0m\u001b[0;34m.\u001b[0m\u001b[0mpin_memory\u001b[0m\u001b[0;34m.\u001b[0m\u001b[0mpin_memory\u001b[0m\u001b[0;34m(\u001b[0m\u001b[0mdata\u001b[0m\u001b[0;34m,\u001b[0m \u001b[0mself\u001b[0m\u001b[0;34m.\u001b[0m\u001b[0m_pin_memory_device\u001b[0m\u001b[0;34m)\u001b[0m\u001b[0;34m\u001b[0m\u001b[0;34m\u001b[0m\u001b[0m\n",
            "\u001b[0;32m/usr/local/lib/python3.10/dist-packages/torch/utils/data/_utils/fetch.py\u001b[0m in \u001b[0;36mfetch\u001b[0;34m(self, possibly_batched_index)\u001b[0m\n\u001b[1;32m     52\u001b[0m         \u001b[0;32melse\u001b[0m\u001b[0;34m:\u001b[0m\u001b[0;34m\u001b[0m\u001b[0;34m\u001b[0m\u001b[0m\n\u001b[1;32m     53\u001b[0m             \u001b[0mdata\u001b[0m \u001b[0;34m=\u001b[0m \u001b[0mself\u001b[0m\u001b[0;34m.\u001b[0m\u001b[0mdataset\u001b[0m\u001b[0;34m[\u001b[0m\u001b[0mpossibly_batched_index\u001b[0m\u001b[0;34m]\u001b[0m\u001b[0;34m\u001b[0m\u001b[0;34m\u001b[0m\u001b[0m\n\u001b[0;32m---> 54\u001b[0;31m         \u001b[0;32mreturn\u001b[0m \u001b[0mself\u001b[0m\u001b[0;34m.\u001b[0m\u001b[0mcollate_fn\u001b[0m\u001b[0;34m(\u001b[0m\u001b[0mdata\u001b[0m\u001b[0;34m)\u001b[0m\u001b[0;34m\u001b[0m\u001b[0;34m\u001b[0m\u001b[0m\n\u001b[0m",
            "\u001b[0;32m/usr/local/lib/python3.10/dist-packages/torch/utils/data/_utils/collate.py\u001b[0m in \u001b[0;36mdefault_collate\u001b[0;34m(batch)\u001b[0m\n\u001b[1;32m    263\u001b[0m             \u001b[0;34m>>\u001b[0m\u001b[0;34m>\u001b[0m \u001b[0mdefault_collate\u001b[0m\u001b[0;34m(\u001b[0m\u001b[0mbatch\u001b[0m\u001b[0;34m)\u001b[0m  \u001b[0;31m# Handle `CustomType` automatically\u001b[0m\u001b[0;34m\u001b[0m\u001b[0;34m\u001b[0m\u001b[0m\n\u001b[1;32m    264\u001b[0m     \"\"\"\n\u001b[0;32m--> 265\u001b[0;31m     \u001b[0;32mreturn\u001b[0m \u001b[0mcollate\u001b[0m\u001b[0;34m(\u001b[0m\u001b[0mbatch\u001b[0m\u001b[0;34m,\u001b[0m \u001b[0mcollate_fn_map\u001b[0m\u001b[0;34m=\u001b[0m\u001b[0mdefault_collate_fn_map\u001b[0m\u001b[0;34m)\u001b[0m\u001b[0;34m\u001b[0m\u001b[0;34m\u001b[0m\u001b[0m\n\u001b[0m",
            "\u001b[0;32m/usr/local/lib/python3.10/dist-packages/torch/utils/data/_utils/collate.py\u001b[0m in \u001b[0;36mcollate\u001b[0;34m(batch, collate_fn_map)\u001b[0m\n\u001b[1;32m    135\u001b[0m         \u001b[0mit\u001b[0m \u001b[0;34m=\u001b[0m \u001b[0miter\u001b[0m\u001b[0;34m(\u001b[0m\u001b[0mbatch\u001b[0m\u001b[0;34m)\u001b[0m\u001b[0;34m\u001b[0m\u001b[0;34m\u001b[0m\u001b[0m\n\u001b[1;32m    136\u001b[0m         \u001b[0melem_size\u001b[0m \u001b[0;34m=\u001b[0m \u001b[0mlen\u001b[0m\u001b[0;34m(\u001b[0m\u001b[0mnext\u001b[0m\u001b[0;34m(\u001b[0m\u001b[0mit\u001b[0m\u001b[0;34m)\u001b[0m\u001b[0;34m)\u001b[0m\u001b[0;34m\u001b[0m\u001b[0;34m\u001b[0m\u001b[0m\n\u001b[0;32m--> 137\u001b[0;31m         \u001b[0;32mif\u001b[0m \u001b[0;32mnot\u001b[0m \u001b[0mall\u001b[0m\u001b[0;34m(\u001b[0m\u001b[0mlen\u001b[0m\u001b[0;34m(\u001b[0m\u001b[0melem\u001b[0m\u001b[0;34m)\u001b[0m \u001b[0;34m==\u001b[0m \u001b[0melem_size\u001b[0m \u001b[0;32mfor\u001b[0m \u001b[0melem\u001b[0m \u001b[0;32min\u001b[0m \u001b[0mit\u001b[0m\u001b[0;34m)\u001b[0m\u001b[0;34m:\u001b[0m\u001b[0;34m\u001b[0m\u001b[0;34m\u001b[0m\u001b[0m\n\u001b[0m\u001b[1;32m    138\u001b[0m             \u001b[0;32mraise\u001b[0m \u001b[0mRuntimeError\u001b[0m\u001b[0;34m(\u001b[0m\u001b[0;34m'each element in list of batch should be of equal size'\u001b[0m\u001b[0;34m)\u001b[0m\u001b[0;34m\u001b[0m\u001b[0;34m\u001b[0m\u001b[0m\n\u001b[1;32m    139\u001b[0m         \u001b[0mtransposed\u001b[0m \u001b[0;34m=\u001b[0m \u001b[0mlist\u001b[0m\u001b[0;34m(\u001b[0m\u001b[0mzip\u001b[0m\u001b[0;34m(\u001b[0m\u001b[0;34m*\u001b[0m\u001b[0mbatch\u001b[0m\u001b[0;34m)\u001b[0m\u001b[0;34m)\u001b[0m  \u001b[0;31m# It may be accessed twice, so we use a list.\u001b[0m\u001b[0;34m\u001b[0m\u001b[0;34m\u001b[0m\u001b[0m\n",
            "\u001b[0;32m/usr/local/lib/python3.10/dist-packages/torch/utils/data/_utils/collate.py\u001b[0m in \u001b[0;36m<genexpr>\u001b[0;34m(.0)\u001b[0m\n\u001b[1;32m    135\u001b[0m         \u001b[0mit\u001b[0m \u001b[0;34m=\u001b[0m \u001b[0miter\u001b[0m\u001b[0;34m(\u001b[0m\u001b[0mbatch\u001b[0m\u001b[0;34m)\u001b[0m\u001b[0;34m\u001b[0m\u001b[0;34m\u001b[0m\u001b[0m\n\u001b[1;32m    136\u001b[0m         \u001b[0melem_size\u001b[0m \u001b[0;34m=\u001b[0m \u001b[0mlen\u001b[0m\u001b[0;34m(\u001b[0m\u001b[0mnext\u001b[0m\u001b[0;34m(\u001b[0m\u001b[0mit\u001b[0m\u001b[0;34m)\u001b[0m\u001b[0;34m)\u001b[0m\u001b[0;34m\u001b[0m\u001b[0;34m\u001b[0m\u001b[0m\n\u001b[0;32m--> 137\u001b[0;31m         \u001b[0;32mif\u001b[0m \u001b[0;32mnot\u001b[0m \u001b[0mall\u001b[0m\u001b[0;34m(\u001b[0m\u001b[0mlen\u001b[0m\u001b[0;34m(\u001b[0m\u001b[0melem\u001b[0m\u001b[0;34m)\u001b[0m \u001b[0;34m==\u001b[0m \u001b[0melem_size\u001b[0m \u001b[0;32mfor\u001b[0m \u001b[0melem\u001b[0m \u001b[0;32min\u001b[0m \u001b[0mit\u001b[0m\u001b[0;34m)\u001b[0m\u001b[0;34m:\u001b[0m\u001b[0;34m\u001b[0m\u001b[0;34m\u001b[0m\u001b[0m\n\u001b[0m\u001b[1;32m    138\u001b[0m             \u001b[0;32mraise\u001b[0m \u001b[0mRuntimeError\u001b[0m\u001b[0;34m(\u001b[0m\u001b[0;34m'each element in list of batch should be of equal size'\u001b[0m\u001b[0;34m)\u001b[0m\u001b[0;34m\u001b[0m\u001b[0;34m\u001b[0m\u001b[0m\n\u001b[1;32m    139\u001b[0m         \u001b[0mtransposed\u001b[0m \u001b[0;34m=\u001b[0m \u001b[0mlist\u001b[0m\u001b[0;34m(\u001b[0m\u001b[0mzip\u001b[0m\u001b[0;34m(\u001b[0m\u001b[0;34m*\u001b[0m\u001b[0mbatch\u001b[0m\u001b[0;34m)\u001b[0m\u001b[0;34m)\u001b[0m  \u001b[0;31m# It may be accessed twice, so we use a list.\u001b[0m\u001b[0;34m\u001b[0m\u001b[0;34m\u001b[0m\u001b[0m\n",
            "\u001b[0;31mKeyboardInterrupt\u001b[0m: "
          ]
        }
      ]
    },
    {
      "cell_type": "code",
      "source": [
        "def imshow(img):\n",
        "    npimg = img.numpy()\n",
        "    plt.axis(\"off\")\n",
        "    plt.imshow(np.transpose(npimg, (1, 2, 0)))"
      ],
      "metadata": {
        "id": "TZXiWMIykAWi"
      },
      "execution_count": null,
      "outputs": []
    },
    {
      "cell_type": "code",
      "source": [
        "'''\n",
        "Display normalized first layer weights\n",
        "'''\n",
        "\n",
        "weights = fcn.layers[0].weight.detach().cpu()\n",
        "\n",
        "print(weights.size())\n",
        "\n",
        "# Normalization\n",
        "w_min, w_max = weights.min(), weights.max()\n",
        "plt_weights = (weights - w_min) / (w_max - w_min)\n",
        "\n",
        "# Plot\n",
        "plt_weights = plt_weights.reshape(30, 2)\n",
        "\n",
        "plt.imshow(plt_weights, cmap='gray')\n",
        "plt.colorbar()\n",
        "plt.title('Weighs normalized')\n",
        "plt.show()"
      ],
      "metadata": {
        "id": "fT7_0HSmjg6g"
      },
      "execution_count": null,
      "outputs": []
    },
    {
      "cell_type": "code",
      "source": [
        "'''\n",
        "Display fft2d of first layer weigths\n",
        "'''\n",
        "\n",
        "plt_weights_fft = fcn.layers[0].weight.detach().cpu().numpy()\n",
        "\n",
        "fft_image = np.fft.fft2(plt_weights_fft)\n",
        "# Shift the zero frequency component to the center of the spectrum\n",
        "fft_image_shifted = np.fft.fftshift(fft_image)\n",
        "\n",
        "# Calculate the magnitude spectrum\n",
        "magnitude_spectrum = np.abs(fft_image_shifted)\n",
        "\n",
        "# Display the magnitude spectrum\n",
        "plt.imshow(magnitude_spectrum, cmap='gray')\n",
        "plt.colorbar()\n",
        "plt.title('FFT2 Magnitude Spectrum')\n",
        "plt.show()"
      ],
      "metadata": {
        "id": "djPdgSWfJOZ7"
      },
      "execution_count": null,
      "outputs": []
    },
    {
      "cell_type": "code",
      "source": [
        "get_accuracy(fcn, testloader)"
      ],
      "metadata": {
        "id": "a4yf21zvL7ZE"
      },
      "execution_count": null,
      "outputs": []
    },
    {
      "cell_type": "code",
      "source": [
        "'''\n",
        "Calculate the confusion matrix\n",
        "'''\n",
        "\n",
        "from sklearn.metrics import confusion_matrix\n",
        "from sklearn import metrics\n",
        "\n",
        "input, output = next(iter(testloader))\n",
        "\n",
        "input = input.to(device)\n",
        "\n",
        "model_out = fcn(input).detach().cpu()\n",
        "\n",
        "output = output.cpu()\n",
        "\n",
        "idx_model_out = torch.argmax(model_out, dim=1)\n",
        "idx_output = torch.argmax(output, dim=1)\n",
        "\n",
        "print(idx_model_out.size())\n",
        "print(idx_output.size())\n",
        "\n",
        "numpy_model_out = idx_model_out.numpy()\n",
        "numpy_output = idx_output.numpy()\n",
        "\n",
        "confusion_matrix = confusion_matrix(numpy_output, numpy_model_out)\n",
        "\n",
        "cm_display = metrics.ConfusionMatrixDisplay(confusion_matrix = confusion_matrix, display_labels = [*range(10)])\n",
        "\n",
        "cm_display.plot()\n",
        "plt.show()"
      ],
      "metadata": {
        "id": "qvkI0h9AoNf4"
      },
      "execution_count": null,
      "outputs": []
    }
  ],
  "metadata": {
    "kernelspec": {
      "display_name": "Python 3",
      "language": "python",
      "name": "python3"
    },
    "language_info": {
      "name": "python",
      "version": "3.10.8"
    },
    "orig_nbformat": 4,
    "colab": {
      "provenance": [],
      "gpuType": "T4",
      "include_colab_link": true
    },
    "accelerator": "GPU",
    "gpuClass": "standard"
  },
  "nbformat": 4,
  "nbformat_minor": 0
}